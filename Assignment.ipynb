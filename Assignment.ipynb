{
  "cells": [
    {
      "cell_type": "markdown",
      "metadata": {
        "id": "Y5y_HbJiPKhA"
      },
      "source": [
        "# Linear Regression\n",
        "## Question 1\n",
        "Make a class called LinearRegression which provides two functions : fit and predict. Try to implement it from scratch. If stuck, refer to the examples folder."
      ]
    },
    {
      "cell_type": "code",
      "execution_count": 275,
      "metadata": {
        "id": "gzoG2XilPLFr"
      },
      "outputs": [],
      "source": [
        "import numpy as np\n",
        "class LinearRegression():\n",
        "    \n",
        "    def __init__(self, iterations, learning_rate):\n",
        "        self.learning_rate = learning_rate\n",
        "        self.iterations = iterations\n",
        "\n",
        "    def fit(self, X_train, y_train):\n",
        "        self.weights = np.zeros(X_train[0].shape)\n",
        "        self.bias = 0\n",
        "        m = len(y_train)\n",
        "        self.costs = []\n",
        "        for _ in range(self.iterations):\n",
        "            y_pred = X_train.dot(self.weights) + self.bias\n",
        "            # Loss in weights = XT(Xw +b - y)\n",
        "            dw = (X_train.T.dot(y_pred - y_train))/m\n",
        "            self.weights -= self.learning_rate*dw\n",
        "            # append the cost in each iteration\n",
        "            self.costs.append(np.sum(np.square(y_pred - y_train)))\n",
        "            # Loss in bias in batch GD = sum of (yhat - y) for each training example\n",
        "            db = (np.sum(y_pred - y_train))/m\n",
        "            self.bias -= self.learning_rate*db\n",
        "    def predict(self, X_test):\n",
        "        n = len(X_test)\n",
        "        predictions = []\n",
        "        for idx in range(n):\n",
        "            yhat = self.weights.dot(X_test[idx]) + self.bias\n",
        "            predictions.append(yhat)\n",
        "        return predictions\n",
        "    def cost(self):\n",
        "        return self.costs\n",
        "            \n",
        "        "
      ]
    },
    {
      "cell_type": "markdown",
      "metadata": {
        "id": "PsqoxNag7D3-"
      },
      "source": [
        "## Question 2\n",
        "\n",
        "Use the dataset https://www.kaggle.com/datasets/quantbruce/real-estate-price-prediction (*).\n",
        "1. Read it using pandas.\n",
        "2. Check for **null values**.\n",
        "3. For each of the columns (except the first and last), plot the column values in the X-axis against the last column of prices in the Y-axis.\n",
        "4. Remove the unwanted columns.\n",
        "5. Split the dataset into train and test data. Test data size = 25% of total dataset.\n",
        "6. **Normalize** the X_train and X_test using MinMaxScaler from sklearn.preprocessing.\n",
        "7. Fit the training data into the model created in question 1 and predict the testing data.\n",
        "8. Use **mean square error and R<sup>2</sup>** from sklearn.metrics as evaluation criterias.\n",
        "9. Fit the training data into the models of the same name provided by sklearn.linear_model and evaluate the predictions using MSE and R<sup>2</sup>.\n",
        "10. Tune the hyperparameters of your models (learning rate, epochs) to achieve losses close to that of the sklearn models.\n",
        "\n",
        "Note : (*) To solve this question, you may proceed in any of the following ways :\n",
        "1. Prepare the notebook in Kaggle, download it and submit it separately with the other questions.\n",
        "2. Download the dataset from kaggle. Upload it to the session storage in Colab.\n",
        "3. Use Colab data directly in Colab. [Refer here](https://www.kaggle.com/general/74235). For this, you need to create kaggle API token. Before submitting, hide or remove the API token."
      ]
    },
    {
      "cell_type": "code",
      "execution_count": 276,
      "metadata": {
        "id": "8lupaMcr63QF"
      },
      "outputs": [
        {
          "data": {
            "text/html": [
              "<div>\n",
              "<style scoped>\n",
              "    .dataframe tbody tr th:only-of-type {\n",
              "        vertical-align: middle;\n",
              "    }\n",
              "\n",
              "    .dataframe tbody tr th {\n",
              "        vertical-align: top;\n",
              "    }\n",
              "\n",
              "    .dataframe thead th {\n",
              "        text-align: right;\n",
              "    }\n",
              "</style>\n",
              "<table border=\"1\" class=\"dataframe\">\n",
              "  <thead>\n",
              "    <tr style=\"text-align: right;\">\n",
              "      <th></th>\n",
              "      <th>No</th>\n",
              "      <th>X1 transaction date</th>\n",
              "      <th>X2 house age</th>\n",
              "      <th>X3 distance to the nearest MRT station</th>\n",
              "      <th>X4 number of convenience stores</th>\n",
              "      <th>X5 latitude</th>\n",
              "      <th>X6 longitude</th>\n",
              "      <th>Y house price of unit area</th>\n",
              "    </tr>\n",
              "  </thead>\n",
              "  <tbody>\n",
              "    <tr>\n",
              "      <th>0</th>\n",
              "      <td>1</td>\n",
              "      <td>2012.917</td>\n",
              "      <td>32.0</td>\n",
              "      <td>84.87882</td>\n",
              "      <td>10</td>\n",
              "      <td>24.98298</td>\n",
              "      <td>121.54024</td>\n",
              "      <td>37.9</td>\n",
              "    </tr>\n",
              "    <tr>\n",
              "      <th>1</th>\n",
              "      <td>2</td>\n",
              "      <td>2012.917</td>\n",
              "      <td>19.5</td>\n",
              "      <td>306.59470</td>\n",
              "      <td>9</td>\n",
              "      <td>24.98034</td>\n",
              "      <td>121.53951</td>\n",
              "      <td>42.2</td>\n",
              "    </tr>\n",
              "    <tr>\n",
              "      <th>2</th>\n",
              "      <td>3</td>\n",
              "      <td>2013.583</td>\n",
              "      <td>13.3</td>\n",
              "      <td>561.98450</td>\n",
              "      <td>5</td>\n",
              "      <td>24.98746</td>\n",
              "      <td>121.54391</td>\n",
              "      <td>47.3</td>\n",
              "    </tr>\n",
              "    <tr>\n",
              "      <th>3</th>\n",
              "      <td>4</td>\n",
              "      <td>2013.500</td>\n",
              "      <td>13.3</td>\n",
              "      <td>561.98450</td>\n",
              "      <td>5</td>\n",
              "      <td>24.98746</td>\n",
              "      <td>121.54391</td>\n",
              "      <td>54.8</td>\n",
              "    </tr>\n",
              "    <tr>\n",
              "      <th>4</th>\n",
              "      <td>5</td>\n",
              "      <td>2012.833</td>\n",
              "      <td>5.0</td>\n",
              "      <td>390.56840</td>\n",
              "      <td>5</td>\n",
              "      <td>24.97937</td>\n",
              "      <td>121.54245</td>\n",
              "      <td>43.1</td>\n",
              "    </tr>\n",
              "  </tbody>\n",
              "</table>\n",
              "</div>"
            ],
            "text/plain": [
              "   No  X1 transaction date  X2 house age  \\\n",
              "0   1             2012.917          32.0   \n",
              "1   2             2012.917          19.5   \n",
              "2   3             2013.583          13.3   \n",
              "3   4             2013.500          13.3   \n",
              "4   5             2012.833           5.0   \n",
              "\n",
              "   X3 distance to the nearest MRT station  X4 number of convenience stores  \\\n",
              "0                                84.87882                               10   \n",
              "1                               306.59470                                9   \n",
              "2                               561.98450                                5   \n",
              "3                               561.98450                                5   \n",
              "4                               390.56840                                5   \n",
              "\n",
              "   X5 latitude  X6 longitude  Y house price of unit area  \n",
              "0     24.98298     121.54024                        37.9  \n",
              "1     24.98034     121.53951                        42.2  \n",
              "2     24.98746     121.54391                        47.3  \n",
              "3     24.98746     121.54391                        54.8  \n",
              "4     24.97937     121.54245                        43.1  "
            ]
          },
          "execution_count": 276,
          "metadata": {},
          "output_type": "execute_result"
        }
      ],
      "source": [
        "import os\n",
        "import pandas as pd\n",
        "os.chdir(os.path.expanduser('~/Downloads'))\n",
        "realestate = pd.read_csv('Real estate.csv')\n",
        "realestate.head()"
      ]
    },
    {
      "cell_type": "code",
      "execution_count": 277,
      "metadata": {},
      "outputs": [],
      "source": [
        "import matplotlib.pyplot as plt\n",
        "import seaborn as sns"
      ]
    },
    {
      "cell_type": "code",
      "execution_count": 278,
      "metadata": {},
      "outputs": [
        {
          "data": {
            "text/plain": [
              "<Axes: xlabel='X4 number of convenience stores', ylabel='Y house price of unit area'>"
            ]
          },
          "execution_count": 278,
          "metadata": {},
          "output_type": "execute_result"
        },
        {
          "data": {
            "image/png": "[encoded data removed]",
            "text/plain": [
              "<Figure size 200x200 with 1 Axes>"
            ]
          },
          "metadata": {},
          "output_type": "display_data"
        }
      ],
      "source": [
        "plt.figure(figsize=(2, 2))\n",
        "sns.barplot(x = 'X4 number of convenience stores', y = 'Y house price of unit area', data=realestate)"
      ]
    },
    {
      "cell_type": "code",
      "execution_count": 279,
      "metadata": {},
      "outputs": [
        {
          "data": {
            "text/plain": [
              "No                                        False\n",
              "X1 transaction date                       False\n",
              "X2 house age                              False\n",
              "X3 distance to the nearest MRT station    False\n",
              "X4 number of convenience stores           False\n",
              "X5 latitude                               False\n",
              "X6 longitude                              False\n",
              "Y house price of unit area                False\n",
              "dtype: bool"
            ]
          },
          "execution_count": 279,
          "metadata": {},
          "output_type": "execute_result"
        }
      ],
      "source": [
        "realestate.isnull().any()"
      ]
    },
    {
      "cell_type": "code",
      "execution_count": 280,
      "metadata": {},
      "outputs": [
        {
          "data": {
            "image/png": "[encoded data removed]",
            "text/plain": [
              "<Figure size 1000x200 with 5 Axes>"
            ]
          },
          "metadata": {},
          "output_type": "display_data"
        }
      ],
      "source": [
        "columns = ['X2 house age',\t'X3 distance to the nearest MRT station', 'X4 number of convenience stores', 'X5 latitude', \n",
        "           'X6 longitude']\n",
        "fig, axs = plt.subplots(1, 5, figsize=(10, 2))\n",
        "yplot = 'Y house price of unit area'\n",
        "axs[0].set_ylabel('house price')\n",
        "for i, feature in enumerate(columns):\n",
        "    if feature == 'X4 number of convenience stores':\n",
        "        axs[i].bar(realestate[feature], realestate[yplot])\n",
        "    axs[i].set_xlabel(f'X{i+2}')\n",
        "    axs[i].scatter(x=realestate[feature], y=realestate[yplot])\n",
        "\n",
        "    "
      ]
    },
    {
      "cell_type": "code",
      "execution_count": 281,
      "metadata": {},
      "outputs": [],
      "source": [
        "from sklearn.preprocessing import MinMaxScaler, Normalizer\n",
        "\n",
        "X = np.array(realestate.drop(columns=['No', 'X1 transaction date']))\n",
        "y = np.array(realestate['Y house price of unit area'])\n",
        "\n",
        "minmaxscalerX = MinMaxScaler()\n",
        "standardscalery = Normalizer()\n",
        "\n",
        "X = minmaxscalerX.fit_transform(X)\n",
        "y = standardscalery.fit_transform(y.reshape(1, -1))[0]"
      ]
    },
    {
      "cell_type": "code",
      "execution_count": 282,
      "metadata": {},
      "outputs": [],
      "source": [
        "from sklearn.model_selection import train_test_split\n",
        "X_train, X_test, y_train, y_test = train_test_split(X, y, test_size=0.25)"
      ]
    },
    {
      "cell_type": "code",
      "execution_count": 283,
      "metadata": {},
      "outputs": [],
      "source": [
        "lgr = LinearRegression(iterations=10000, learning_rate=0.01)\n",
        "lgr.fit(X_train, y_train)"
      ]
    },
    {
      "cell_type": "code",
      "execution_count": 284,
      "metadata": {},
      "outputs": [],
      "source": [
        "y_predicted = lgr.predict(X_test)"
      ]
    },
    {
      "cell_type": "code",
      "execution_count": 285,
      "metadata": {},
      "outputs": [],
      "source": [
        "from sklearn.metrics import mean_squared_error\n"
      ]
    },
    {
      "cell_type": "code",
      "execution_count": 286,
      "metadata": {},
      "outputs": [
        {
          "data": {
            "text/plain": [
              "Text(0, 0.002, 'cost = 0.008388613588750666')"
            ]
          },
          "execution_count": 286,
          "metadata": {},
          "output_type": "execute_result"
        },
        {
          "data": {
            "image/png": "[encoded data removed]",
            "text/plain": [
              "<Figure size 300x300 with 1 Axes>"
            ]
          },
          "metadata": {},
          "output_type": "display_data"
        }
      ],
      "source": [
        "cost = lgr.cost()\n",
        "epochs = np.arange(lgr.iterations)\n",
        "plt.figure(figsize=(3, 3))\n",
        "plt.plot(epochs, cost)\n",
        "plt.xlabel('epoch')\n",
        "plt.ylabel('cost')\n",
        "plt.title('plot of cost in each iteration/epoch')\n",
        "# Cost at last epoch .\n",
        "plt.text(0, 0.0020, f'cost = {cost[-1]}')"
      ]
    },
    {
      "cell_type": "code",
      "execution_count": 287,
      "metadata": {},
      "outputs": [
        {
          "name": "stdout",
          "output_type": "stream",
          "text": [
            "Accuracy based on scratch model : 2.2259114195413127e-05\n",
            "based on Sckit learn Linear regression 1.755703894765389e-33\n"
          ]
        }
      ],
      "source": [
        "# Sklearn Model Linear regression\n",
        "from sklearn.linear_model import LinearRegression\n",
        "\n",
        "lnrrgr = LinearRegression(n_jobs=-1)\n",
        "lnrrgr.fit(X_train, y_train)\n",
        "y_predicted_sk = lnrrgr.predict(X_test)\n",
        "print(f'Accuracy based on scratch model : {mean_squared_error(y_predicted, y_test)}'); \n",
        "print(f'based on Sckit learn Linear regression {mean_squared_error(y_test, y_predicted_sk)}'); "
      ]
    },
    {
      "cell_type": "markdown",
      "metadata": {
        "id": "dQ7lQpy-SYCq"
      },
      "source": [
        "# Logistic Regression\n",
        "## Question 3\n",
        "\n",
        "The breast cancer dataset is a binary classification dataset commonly used in machine learning tasks. It is available in scikit-learn (sklearn) as part of its datasets module.\n",
        "Here is an explanation of the breast cancer dataset's components:\n",
        "\n",
        "* Features (X):\n",
        "\n",
        " * The breast cancer dataset consists of 30 numeric features representing different characteristics of the FNA images. These features include mean, standard error, and worst (largest) values of various attributes such as radius, texture, smoothness, compactness, concavity, symmetry, fractal dimension, etc.\n",
        "\n",
        "* Target (y):\n",
        "\n",
        " * The breast cancer dataset is a binary classification problem, and the target variable (y) represents the diagnosis of the breast mass. It contains two classes:\n",
        "    * 0: Represents a malignant (cancerous) tumor.\n",
        "    * 1: Represents a benign (non-cancerous) tumor.\n",
        "\n",
        "Complete the code given below in place of the \"...\""
      ]
    },
    {
      "cell_type": "markdown",
      "metadata": {
        "id": "auipk-zBpmO-"
      },
      "source": [
        "1. Load the dataset from sklearn.datasets\n",
        "2. Separate out the X and Y columns.\n",
        "3. Normalize the X data using MinMaxScaler or StandardScaler.\n",
        "4. Create a train-test-split. Take any suitable test size."
      ]
    },
    {
      "cell_type": "code",
      "execution_count": 248,
      "metadata": {
        "id": "0OyGNHNjFh13"
      },
      "outputs": [],
      "source": [
        "from sklearn import datasets\n",
        "\n",
        "data  = datasets.load_breast_cancer()\n",
        "Xl = data['data'] ; yl = data['target']\n",
        "minmaxscalerXl = MinMaxScaler()\n",
        "Xl = minmaxscalerXl.fit_transform(Xl)\n",
        "\n",
        "Xl_train, Xl_test, yl_train, yl_test = train_test_split(Xl, yl)\n"
      ]
    },
    {
      "cell_type": "markdown",
      "metadata": {
        "id": "uM-SsSxpqF2o"
      },
      "source": [
        "5. Write code for the sigmoid function and Logistic regression.\n"
      ]
    },
    {
      "cell_type": "code",
      "execution_count": 249,
      "metadata": {
        "id": "o81LA5MZFoTW"
      },
      "outputs": [],
      "source": [
        "def sigmoid(z):\n",
        "  g_z = 1/(1 + np.exp(-z))\n",
        "  return g_z\n",
        "\n",
        "def sigmoid_derivative(z):\n",
        "    return sigmoid(z) * (1 - sigmoid(z))\n",
        "\n",
        "class LogisticRegression:\n",
        "    def __init__(self, learning_rate, epochs):\n",
        "      #Initialise the hyperparameters of the model\n",
        "        self.lr = learning_rate\n",
        "        self.epochs = epochs\n",
        "\n",
        "    def fit(self, X, y):\n",
        "        n_samples, n_features = X.shape\n",
        "        y = y.reshape(-1, 1)\n",
        "        self.weights = np.zeros((n_features, 1))\n",
        "        self.bias = 0\n",
        "\n",
        "        #Implement the GD algortihm\n",
        "        for _ in range(self.epochs):\n",
        "            z = X.dot(self.weights) + (self.bias)\n",
        "            y_pred = sigmoid(z)\n",
        "            dw = (X.T.dot(y_pred - y)/n_samples)\n",
        "            db = (np.sum(y_pred - y))/n_samples\n",
        "\n",
        "            self.weights -= self.lr * dw\n",
        "            self.bias -= self.lr * db\n",
        "\n",
        "    def predict(self, X):\n",
        "      #Write the predict function\n",
        "        z = X.dot(self.weights) + self.bias\n",
        "        y_pred = sigmoid(z)\n",
        "          \n",
        "          \n",
        "        return y_pred"
      ]
    },
    {
      "cell_type": "markdown",
      "metadata": {
        "id": "Uo9LNRMzq4K-"
      },
      "source": [
        "6. Fit your model on the dataset and make predictions.\n",
        "7. Compare your model with the Sklearn Logistic Regression model. Try out all the different penalties.\n",
        "8. Print accuracy_score in each case using sklearn.metrics ."
      ]
    },
    {
      "cell_type": "code",
      "execution_count": 250,
      "metadata": {
        "id": "DyGsTTOqFphf"
      },
      "outputs": [],
      "source": [
        "logreg = LogisticRegression(epochs=500, learning_rate=0.01)\n",
        "logreg.fit(Xl_train, yl_train)\n",
        "yl_predict = logreg.predict(Xl_test)"
      ]
    },
    {
      "cell_type": "code",
      "execution_count": 251,
      "metadata": {},
      "outputs": [],
      "source": [
        "from sklearn.linear_model import LogisticRegression\n",
        "\n",
        "logit = LogisticRegression()\n",
        "logit.fit(Xl_train, yl_train)\n",
        "yl_predict_sk = logit.predict(Xl_test)"
      ]
    },
    {
      "cell_type": "code",
      "execution_count": 253,
      "metadata": {},
      "outputs": [
        {
          "data": {
            "text/plain": [
              "<matplotlib.legend.Legend at 0x15eb66d50>"
            ]
          },
          "execution_count": 253,
          "metadata": {},
          "output_type": "execute_result"
        },
        {
          "data": {
            "image/png": "[encoded data removed]",
            "text/plain": [
              "<Figure size 700x300 with 2 Axes>"
            ]
          },
          "metadata": {},
          "output_type": "display_data"
        }
      ],
      "source": [
        "from sklearn.metrics import roc_curve, roc_auc_score\n",
        "\n",
        "fpr, tpr, thresholds = roc_curve(yl_test, yl_predict)\n",
        "fig, axs = plt.subplots(1, 2, figsize = (7, 3))\n",
        "plt.title('based on scratch model')\n",
        "axs[0].plot(fpr, tpr)\n",
        "axs[0].set_xlim(-0.02, 1.0)\n",
        "axs[0].set_ylim(0, 1.1)\n",
        "axs[0].plot([0, 1], [0, 1], 'r--')\n",
        "axs[1].plot(thresholds, tpr, label='tpr')\n",
        "axs[1].plot(thresholds, fpr, 'g', label='fpr')\n",
        "axs[1].legend()\n",
        "# Best threshold is 0.52\n"
      ]
    },
    {
      "cell_type": "code",
      "execution_count": 254,
      "metadata": {},
      "outputs": [
        {
          "data": {
            "text/plain": [
              "<matplotlib.legend.Legend at 0x15ebf5d90>"
            ]
          },
          "execution_count": 254,
          "metadata": {},
          "output_type": "execute_result"
        },
        {
          "data": {
            "image/png": "[encoded data removed]",
            "text/plain": [
              "<Figure size 700x300 with 2 Axes>"
            ]
          },
          "metadata": {},
          "output_type": "display_data"
        }
      ],
      "source": [
        "from sklearn.metrics import roc_curve, roc_auc_score\n",
        "\n",
        "fpr, tpr, thresholds = roc_curve(yl_test, yl_predict_sk)\n",
        "fig, axs = plt.subplots(1, 2, figsize = (7, 3))\n",
        "plt.title('based on scikit learn model')\n",
        "axs[0].plot(fpr, tpr)\n",
        "axs[0].set_xlim(-0.02, 1.0)\n",
        "axs[0].set_ylim(0, 1.1)\n",
        "axs[0].plot([0, 1], [0, 1], 'r--')\n",
        "axs[1].plot(thresholds, tpr, label='tpr')\n",
        "axs[1].plot(thresholds, fpr, 'g', label='fpr')\n",
        "axs[1].set_xlim(-0.02, 1.1)\n",
        "axs[1].legend()\n",
        "# Best threshold is 0.9"
      ]
    },
    {
      "cell_type": "markdown",
      "metadata": {
        "id": "AGBkzAO5red4"
      },
      "source": [
        "9. For the best model in each case (yours and scikit-learn), print the classification_report using sklearn.metrics .\n",
        "10. For the best model in each case (yours and scikit-learn), print the confusion_matrix using sklearn.metrics ."
      ]
    },
    {
      "cell_type": "code",
      "execution_count": 260,
      "metadata": {},
      "outputs": [],
      "source": [
        "yl_predicted = []\n",
        "yl_predicted_sk = []\n",
        "for p_1, p_2 in zip(yl_predict, yl_predict_sk):\n",
        "    if p_1 >= 0.55 :\n",
        "        yl_predicted.append(1)\n",
        "    else: \n",
        "        yl_predicted.append(0)\n",
        "    if p_2 >= 0.95:\n",
        "        yl_predicted_sk.append(1)\n",
        "    else : \n",
        "        yl_predicted_sk.append(0)\n",
        "    "
      ]
    },
    {
      "cell_type": "code",
      "execution_count": 261,
      "metadata": {
        "id": "le-HfABsvnyF"
      },
      "outputs": [
        {
          "name": "stdout",
          "output_type": "stream",
          "text": [
            "              precision    recall  f1-score   support\n",
            "\n",
            "           0       0.89      0.94      0.92        52\n",
            "           1       0.97      0.93      0.95        91\n",
            "\n",
            "    accuracy                           0.94       143\n",
            "   macro avg       0.93      0.94      0.93       143\n",
            "weighted avg       0.94      0.94      0.94       143\n",
            "\n"
          ]
        }
      ],
      "source": [
        "from sklearn.metrics import classification_report\n",
        "print(classification_report(yl_test, yl_predicted))"
      ]
    },
    {
      "cell_type": "code",
      "execution_count": 262,
      "metadata": {},
      "outputs": [
        {
          "name": "stdout",
          "output_type": "stream",
          "text": [
            "              precision    recall  f1-score   support\n",
            "\n",
            "           0       1.00      0.88      0.94        52\n",
            "           1       0.94      1.00      0.97        91\n",
            "\n",
            "    accuracy                           0.96       143\n",
            "   macro avg       0.97      0.94      0.95       143\n",
            "weighted avg       0.96      0.96      0.96       143\n",
            "\n"
          ]
        }
      ],
      "source": [
        "print(classification_report(yl_test, yl_predicted_sk))"
      ]
    },
    {
      "cell_type": "code",
      "execution_count": 263,
      "metadata": {},
      "outputs": [
        {
          "data": {
            "text/plain": [
              "Text(0.5, 1.0, 'based on scratch model')"
            ]
          },
          "execution_count": 263,
          "metadata": {},
          "output_type": "execute_result"
        },
        {
          "data": {
            "image/png": "[encoded data removed]",
            "text/plain": [
              "<Figure size 640x480 with 2 Axes>"
            ]
          },
          "metadata": {},
          "output_type": "display_data"
        }
      ],
      "source": [
        "from sklearn.metrics import confusion_matrix\n",
        "sns.heatmap(confusion_matrix(y_true=yl_test, y_pred=yl_predicted), annot=True, cmap='Reds')\n",
        "plt.title('based on scratch model')\n"
      ]
    },
    {
      "cell_type": "code",
      "execution_count": 264,
      "metadata": {},
      "outputs": [
        {
          "data": {
            "text/plain": [
              "Text(0.5, 1.0, 'based on scikit learn model')"
            ]
          },
          "execution_count": 264,
          "metadata": {},
          "output_type": "execute_result"
        },
        {
          "data": {
            "image/png": "[encoded data removed]",
            "text/plain": [
              "<Figure size 640x480 with 2 Axes>"
            ]
          },
          "metadata": {},
          "output_type": "display_data"
        }
      ],
      "source": [
        "sns.heatmap(confusion_matrix(y_true=yl_test, y_pred=yl_predicted_sk), annot=True, cmap='Reds')\n",
        "plt.title('based on scikit learn model')\n"
      ]
    },
    {
      "cell_type": "markdown",
      "metadata": {
        "id": "6OQ2tSp0MO6n"
      },
      "source": [
        "# KNN\n",
        "## Question 4\n",
        "\n",
        "How accurately can a K-Nearest Neighbors (KNN) model classify different types of glass based on a glass classification dataset consisting of 214 samples and 7 classes? Use the kaggle dataset \"https://www.kaggle.com/datasets/uciml/glass\".\n",
        "\n",
        "Context: This is a Glass Identification Data Set from UCI. It contains 10 attributes including id. The response is glass type(discrete 7 values)"
      ]
    },
    {
      "cell_type": "markdown",
      "metadata": {
        "id": "iMGxbtX-zfsI"
      },
      "source": [
        "1. Load the data as you did in the 2nd question.\n",
        "2. Extract the X and Y columns.\n",
        "3. Split it into training and testing datasets."
      ]
    },
    {
      "cell_type": "code",
      "execution_count": 288,
      "metadata": {
        "id": "p0SfLB7pO7_z"
      },
      "outputs": [
        {
          "data": {
            "text/html": [
              "<div>\n",
              "<style scoped>\n",
              "    .dataframe tbody tr th:only-of-type {\n",
              "        vertical-align: middle;\n",
              "    }\n",
              "\n",
              "    .dataframe tbody tr th {\n",
              "        vertical-align: top;\n",
              "    }\n",
              "\n",
              "    .dataframe thead th {\n",
              "        text-align: right;\n",
              "    }\n",
              "</style>\n",
              "<table border=\"1\" class=\"dataframe\">\n",
              "  <thead>\n",
              "    <tr style=\"text-align: right;\">\n",
              "      <th></th>\n",
              "      <th>RI</th>\n",
              "      <th>Na</th>\n",
              "      <th>Mg</th>\n",
              "      <th>Al</th>\n",
              "      <th>Si</th>\n",
              "      <th>K</th>\n",
              "      <th>Ca</th>\n",
              "      <th>Ba</th>\n",
              "      <th>Fe</th>\n",
              "      <th>Type</th>\n",
              "    </tr>\n",
              "  </thead>\n",
              "  <tbody>\n",
              "    <tr>\n",
              "      <th>0</th>\n",
              "      <td>1.52101</td>\n",
              "      <td>13.64</td>\n",
              "      <td>4.49</td>\n",
              "      <td>1.10</td>\n",
              "      <td>71.78</td>\n",
              "      <td>0.06</td>\n",
              "      <td>8.75</td>\n",
              "      <td>0.0</td>\n",
              "      <td>0.0</td>\n",
              "      <td>1</td>\n",
              "    </tr>\n",
              "    <tr>\n",
              "      <th>1</th>\n",
              "      <td>1.51761</td>\n",
              "      <td>13.89</td>\n",
              "      <td>3.60</td>\n",
              "      <td>1.36</td>\n",
              "      <td>72.73</td>\n",
              "      <td>0.48</td>\n",
              "      <td>7.83</td>\n",
              "      <td>0.0</td>\n",
              "      <td>0.0</td>\n",
              "      <td>1</td>\n",
              "    </tr>\n",
              "    <tr>\n",
              "      <th>2</th>\n",
              "      <td>1.51618</td>\n",
              "      <td>13.53</td>\n",
              "      <td>3.55</td>\n",
              "      <td>1.54</td>\n",
              "      <td>72.99</td>\n",
              "      <td>0.39</td>\n",
              "      <td>7.78</td>\n",
              "      <td>0.0</td>\n",
              "      <td>0.0</td>\n",
              "      <td>1</td>\n",
              "    </tr>\n",
              "    <tr>\n",
              "      <th>3</th>\n",
              "      <td>1.51766</td>\n",
              "      <td>13.21</td>\n",
              "      <td>3.69</td>\n",
              "      <td>1.29</td>\n",
              "      <td>72.61</td>\n",
              "      <td>0.57</td>\n",
              "      <td>8.22</td>\n",
              "      <td>0.0</td>\n",
              "      <td>0.0</td>\n",
              "      <td>1</td>\n",
              "    </tr>\n",
              "    <tr>\n",
              "      <th>4</th>\n",
              "      <td>1.51742</td>\n",
              "      <td>13.27</td>\n",
              "      <td>3.62</td>\n",
              "      <td>1.24</td>\n",
              "      <td>73.08</td>\n",
              "      <td>0.55</td>\n",
              "      <td>8.07</td>\n",
              "      <td>0.0</td>\n",
              "      <td>0.0</td>\n",
              "      <td>1</td>\n",
              "    </tr>\n",
              "  </tbody>\n",
              "</table>\n",
              "</div>"
            ],
            "text/plain": [
              "        RI     Na    Mg    Al     Si     K    Ca   Ba   Fe  Type\n",
              "0  1.52101  13.64  4.49  1.10  71.78  0.06  8.75  0.0  0.0     1\n",
              "1  1.51761  13.89  3.60  1.36  72.73  0.48  7.83  0.0  0.0     1\n",
              "2  1.51618  13.53  3.55  1.54  72.99  0.39  7.78  0.0  0.0     1\n",
              "3  1.51766  13.21  3.69  1.29  72.61  0.57  8.22  0.0  0.0     1\n",
              "4  1.51742  13.27  3.62  1.24  73.08  0.55  8.07  0.0  0.0     1"
            ]
          },
          "execution_count": 288,
          "metadata": {},
          "output_type": "execute_result"
        }
      ],
      "source": [
        "glassdf = pd.read_csv('glass.csv.xls')\n",
        "glassdf.head()"
      ]
    },
    {
      "cell_type": "code",
      "execution_count": 218,
      "metadata": {},
      "outputs": [],
      "source": [
        "Xk = np.array(glassdf.drop(columns=['RI', 'Type']))\n",
        "yk = np.array(glassdf.Type)\n",
        "Xk_train, Xk_test, yk_train, yk_test = train_test_split(Xk, yk, test_size=0.01)"
      ]
    },
    {
      "cell_type": "markdown",
      "metadata": {
        "id": "qtyZJXh9zoh5"
      },
      "source": [
        "4. Define Euclidean distance.\n",
        "5. Build the KNN model.\n",
        "6. Fit the model on the training data. (Note : you may require to change the type of the data from pandas dataframe to numpy arrays. To do that, just do this X=np.array(X) and so on...)"
      ]
    },
    {
      "cell_type": "code",
      "execution_count": 219,
      "metadata": {
        "id": "YJkhLORLzn6r"
      },
      "outputs": [],
      "source": [
        "def Euclidean_distance(X, y):\n",
        "    dis = np.square(X - y)\n",
        "    dis = np.sum(dis, axis=1)\n",
        "    return dis\n",
        "\n",
        "class KNN():\n",
        "    def __init__(self, k) :\n",
        "        # k nearest neighbours are considered.\n",
        "        self.k = k\n",
        "    def train(self, X, y):\n",
        "        self.X = X\n",
        "        self.y = y\n",
        "    def predict(self, X_test):\n",
        "        predictions = []\n",
        "        for x in X_test:\n",
        "            dis = Euclidean_distance(self.X , x)\n",
        "            dis = np.array(dis)\n",
        "            arg_dis = np.argsort(dis)[:self.k]\n",
        "            # argdis = []\n",
        "            # for idx in arg_dis:\n",
        "            #     argdis.append(self.y[idx])\n",
        "            # hash = {i : 0 for i in argdis}\n",
        "            # for class_ in argdis:\n",
        "            #     hash[class_]+=1\n",
        "            # for idx, (key, value) in enumerate(hash.items()):\n",
        "            #     if idx == 0:\n",
        "            #         maxkey = key\n",
        "            #         maxvalue = value\n",
        "            #     else:\n",
        "            #         if value > maxvalue :\n",
        "            #             maxvalue = value\n",
        "            #             maxkey = key\n",
        "            # predictions.append(maxkey)\n",
        "            nearest_labels = self.y[arg_dis]\n",
        "            \n",
        "            counts = np.bincount(nearest_labels)\n",
        "            prediction = np.argmax(counts)\n",
        "            \n",
        "            predictions.append(prediction)\n",
        "        \n",
        "        return predictions\n",
        "def accuracy(predictions,y_test):\n",
        "    return np.sum(predictions==y_test)/len(y_test)"
      ]
    },
    {
      "cell_type": "code",
      "execution_count": 220,
      "metadata": {},
      "outputs": [],
      "source": [
        "knn = KNN(k=3)\n",
        "knn.train(Xk_train, yk_train)"
      ]
    },
    {
      "cell_type": "markdown",
      "metadata": {
        "id": "E9rxZpPB0pVS"
      },
      "source": [
        "7. Make predictions. Find their accuracy using accuracy_score. Try different k values. k=3 worked well in our case.\n",
        "8. Compare with the sklearn model (from sklearn.neighbors import KNeighborsClassifier)"
      ]
    },
    {
      "cell_type": "code",
      "execution_count": 221,
      "metadata": {
        "id": "ernfjaZJ0pAh"
      },
      "outputs": [],
      "source": [
        "yk_predict = knn.predict(Xk_test)"
      ]
    },
    {
      "cell_type": "code",
      "execution_count": 222,
      "metadata": {
        "id": "h2tZQg4L09wn"
      },
      "outputs": [
        {
          "data": {
            "text/plain": [
              "1.0"
            ]
          },
          "execution_count": 222,
          "metadata": {},
          "output_type": "execute_result"
        }
      ],
      "source": [
        "# from sklearn.metrics import accuracy_score\n",
        "accuracy(yk_test, yk_predict)"
      ]
    },
    {
      "cell_type": "code",
      "execution_count": 223,
      "metadata": {},
      "outputs": [
        {
          "data": {
            "text/plain": [
              "1.0"
            ]
          },
          "execution_count": 223,
          "metadata": {},
          "output_type": "execute_result"
        }
      ],
      "source": [
        "knn2 = KNN(k=5)\n",
        "knn2.train(Xk_train, yk_train)\n",
        "yk2_predict = knn2.predict(Xk_test)\n",
        "accuracy(yk_test, yk2_predict)"
      ]
    },
    {
      "cell_type": "code",
      "execution_count": 224,
      "metadata": {},
      "outputs": [
        {
          "data": {
            "text/plain": [
              "1.0"
            ]
          },
          "execution_count": 224,
          "metadata": {},
          "output_type": "execute_result"
        }
      ],
      "source": [
        "knn3 = KNN(k=7)\n",
        "knn3.train(Xk_train, yk_train)\n",
        "yk3_predict = knn3.predict(Xk_test)\n",
        "accuracy(yk_test, yk3_predict)"
      ]
    },
    {
      "cell_type": "code",
      "execution_count": 225,
      "metadata": {},
      "outputs": [
        {
          "data": {
            "text/plain": [
              "0.6666666666666666"
            ]
          },
          "execution_count": 225,
          "metadata": {},
          "output_type": "execute_result"
        }
      ],
      "source": [
        "knn4 = KNN(k=9)\n",
        "knn4.train(Xk_train, yk_train)\n",
        "yk4_predict = knn4.predict(Xk_test)\n",
        "accuracy(yk_test, yk4_predict)"
      ]
    }
  ],
  "metadata": {
    "colab": {
      "provenance": []
    },
    "kernelspec": {
      "display_name": "Python 3",
      "name": "python3"
    },
    "language_info": {
      "codemirror_mode": {
        "name": "ipython",
        "version": 3
      },
      "file_extension": ".py",
      "mimetype": "text/x-python",
      "name": "python",
      "nbconvert_exporter": "python",
      "pygments_lexer": "ipython3",
      "version": "3.11.5"
    }
  },
  "nbformat": 4,
  "nbformat_minor": 0
}
